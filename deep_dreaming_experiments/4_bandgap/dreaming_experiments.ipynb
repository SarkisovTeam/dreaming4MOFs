{
 "cells": [
  {
   "attachments": {},
   "cell_type": "markdown",
   "metadata": {},
   "source": [
    "# BANDGAP DREAMING EXPERIMENTS"
   ]
  },
  {
   "cell_type": "code",
   "execution_count": 180,
   "metadata": {},
   "outputs": [
    {
     "name": "stdout",
     "output_type": "stream",
     "text": [
      "The autoreload extension is already loaded. To reload it, use:\n",
      "  %reload_ext autoreload\n"
     ]
    }
   ],
   "source": [
    "%load_ext autoreload\n",
    "%autoreload 2"
   ]
  },
  {
   "cell_type": "code",
   "execution_count": 181,
   "metadata": {},
   "outputs": [],
   "source": [
    "# imports\n",
    "import sys, os\n",
    "sys.path.append('../../deep_dream_src/')\n",
    "import pandas as pd \n",
    "import numpy as np\n",
    "import matplotlib.pyplot as plt\n",
    "import random\n",
    "from plot_utils import draw_smiles_linker, create_parity_plot\n",
    "from nn_functions import featurize_df, prepare_hybrid_dataset, MolecularLSTMModel, prepare_dreaming_mof, prepare_dreaming_edge, split_dataframe\n",
    "from utils import *\n",
    "from tokenizer_functions import *\n",
    "import selfies as sf\n",
    "from group_selfies import GroupGrammar, bond_constraints\n",
    "import math\n",
    "import pickle \n",
    "group_constraints = {'H': 1, 'F': 1, 'Cl': 1, 'Br': 1, 'I': 1, 'B': 3, 'B+1': 2, 'B-1': 4, 'O': 2, 'O+1': 3, 'O-1': 1, 'N': 3, 'N+1': 4, 'N-1': 2, 'C': 4, 'C+1': 3, 'C-1': 3, 'P': 5, 'P+1': 6, 'P-1': 4, 'S': 6, 'S+1': 7, 'S-1': 5, '?': 8, '*': math.inf, 'Fr': 1}\n",
    "bond_constraints.set_semantic_constraints(group_constraints)\n",
    "from dreaming_functions import *\n",
    "import rdkit\n",
    "from rdkit import Chem\n",
    "rdkit.RDLogger.DisableLog('rdApp.warning')"
   ]
  },
  {
   "attachments": {},
   "cell_type": "markdown",
   "metadata": {},
   "source": [
    "### Collect our input data"
   ]
  },
  {
   "cell_type": "code",
   "execution_count": 3,
   "metadata": {},
   "outputs": [
    {
     "data": {
      "text/html": [
       "<div>\n",
       "<style scoped>\n",
       "    .dataframe tbody tr th:only-of-type {\n",
       "        vertical-align: middle;\n",
       "    }\n",
       "\n",
       "    .dataframe tbody tr th {\n",
       "        vertical-align: top;\n",
       "    }\n",
       "\n",
       "    .dataframe thead th {\n",
       "        text-align: right;\n",
       "    }\n",
       "</style>\n",
       "<table border=\"1\" class=\"dataframe\">\n",
       "  <thead>\n",
       "    <tr style=\"text-align: right;\">\n",
       "      <th></th>\n",
       "      <th>edge_selfie</th>\n",
       "      <th>edge_canon_smile</th>\n",
       "      <th>edge_group_selfie</th>\n",
       "      <th>group_selfie_length</th>\n",
       "      <th>node_selfie</th>\n",
       "      <th>topo</th>\n",
       "      <th>SA_score</th>\n",
       "      <th>connection_point</th>\n",
       "      <th>MOFname</th>\n",
       "      <th>totalPOV_VF</th>\n",
       "      <th>...</th>\n",
       "      <th>GSA</th>\n",
       "      <th>henry_coefficient_CO2_300_mol_kg_Pa</th>\n",
       "      <th>log_henry_coefficient_CO2_300</th>\n",
       "      <th>heat_of_adsorption_CO2_300_kJ_mol</th>\n",
       "      <th>henry_coefficient_N2_300_mol_kg_Pa</th>\n",
       "      <th>log_henry_coefficient_N2_300</th>\n",
       "      <th>heat_of_adsorption_N2_300_kJ_mol</th>\n",
       "      <th>henry_CO2_N2_selectivity</th>\n",
       "      <th>log_CO2_N2_selectivity</th>\n",
       "      <th>filename</th>\n",
       "    </tr>\n",
       "  </thead>\n",
       "  <tbody>\n",
       "    <tr>\n",
       "      <th>0</th>\n",
       "      <td>[O][O][C][=C][C][Branch1][C][Fr][C][Branch1][R...</td>\n",
       "      <td>OOC1=CC([Fr])C(OO)=CC1=C1NN([Fr])N1</td>\n",
       "      <td>[O][O][C][=C][C][Branch][C][=Branch][=C][C][Br...</td>\n",
       "      <td>28</td>\n",
       "      <td>[Fr][C][O][Cu][O][C][Branch1][C][Fr][O][Cu][Br...</td>\n",
       "      <td>acs</td>\n",
       "      <td>5.938156</td>\n",
       "      <td>[11, 27]</td>\n",
       "      <td>acs_N125_edge1276</td>\n",
       "      <td>0.7545</td>\n",
       "      <td>...</td>\n",
       "      <td>4100.11</td>\n",
       "      <td>0.000005</td>\n",
       "      <td>-12.2</td>\n",
       "      <td>-10.097733</td>\n",
       "      <td>0.000002</td>\n",
       "      <td>-13.3</td>\n",
       "      <td>-4.43999</td>\n",
       "      <td>2.92</td>\n",
       "      <td>1.072161</td>\n",
       "      <td>acs_N125_edge1276.cif</td>\n",
       "    </tr>\n",
       "  </tbody>\n",
       "</table>\n",
       "<p>1 rows × 22 columns</p>\n",
       "</div>"
      ],
      "text/plain": [
       "                                         edge_selfie  \\\n",
       "0  [O][O][C][=C][C][Branch1][C][Fr][C][Branch1][R...   \n",
       "\n",
       "                      edge_canon_smile  \\\n",
       "0  OOC1=CC([Fr])C(OO)=CC1=C1NN([Fr])N1   \n",
       "\n",
       "                                   edge_group_selfie  group_selfie_length  \\\n",
       "0  [O][O][C][=C][C][Branch][C][=Branch][=C][C][Br...                   28   \n",
       "\n",
       "                                         node_selfie topo  SA_score  \\\n",
       "0  [Fr][C][O][Cu][O][C][Branch1][C][Fr][O][Cu][Br...  acs  5.938156   \n",
       "\n",
       "  connection_point            MOFname  totalPOV_VF  ...      GSA  \\\n",
       "0         [11, 27]  acs_N125_edge1276       0.7545  ...  4100.11   \n",
       "\n",
       "   henry_coefficient_CO2_300_mol_kg_Pa  log_henry_coefficient_CO2_300  \\\n",
       "0                             0.000005                          -12.2   \n",
       "\n",
       "   heat_of_adsorption_CO2_300_kJ_mol  henry_coefficient_N2_300_mol_kg_Pa  \\\n",
       "0                         -10.097733                            0.000002   \n",
       "\n",
       "   log_henry_coefficient_N2_300  heat_of_adsorption_N2_300_kJ_mol  \\\n",
       "0                         -13.3                          -4.43999   \n",
       "\n",
       "   henry_CO2_N2_selectivity  log_CO2_N2_selectivity               filename  \n",
       "0                      2.92                1.072161  acs_N125_edge1276.cif  \n",
       "\n",
       "[1 rows x 22 columns]"
      ]
     },
     "execution_count": 3,
     "metadata": {},
     "output_type": "execute_result"
    }
   ],
   "source": [
    "training_data = pd.read_csv('../../train_models/training_data.csv')\n",
    "group_grammar = GroupGrammar.from_file('../gs_mof_grammar.txt')\n",
    "training_data.head(1)"
   ]
  },
  {
   "cell_type": "code",
   "execution_count": 4,
   "metadata": {},
   "outputs": [
    {
     "name": "stderr",
     "output_type": "stream",
     "text": [
      "../../deep_dream_src\\nn_functions.py:192: SettingWithCopyWarning: \n",
      "A value is trying to be set on a copy of a slice from a DataFrame.\n",
      "Try using .loc[row_indexer,col_indexer] = value instead\n",
      "\n",
      "See the caveats in the documentation: https://pandas.pydata.org/pandas-docs/stable/user_guide/indexing.html#returning-a-view-versus-a-copy\n",
      "  to_featurize['tokenized_edge_selfies'] = tokenized_selfies\n",
      "../../deep_dream_src\\nn_functions.py:193: SettingWithCopyWarning: \n",
      "A value is trying to be set on a copy of a slice from a DataFrame.\n",
      "Try using .loc[row_indexer,col_indexer] = value instead\n",
      "\n",
      "See the caveats in the documentation: https://pandas.pydata.org/pandas-docs/stable/user_guide/indexing.html#returning-a-view-versus-a-copy\n",
      "  to_featurize['edge_lens'] = edge_lens\n",
      "../../deep_dream_src\\nn_functions.py:196: SettingWithCopyWarning: \n",
      "A value is trying to be set on a copy of a slice from a DataFrame.\n",
      "Try using .loc[row_indexer,col_indexer] = value instead\n",
      "\n",
      "See the caveats in the documentation: https://pandas.pydata.org/pandas-docs/stable/user_guide/indexing.html#returning-a-view-versus-a-copy\n",
      "  to_featurize['node_plus_topo'] = [a+f'[&&][{b}]' for a,b in zip(to_featurize[node_rep],to_featurize[topo_rep])]\n",
      "../../deep_dream_src\\nn_functions.py:204: SettingWithCopyWarning: \n",
      "A value is trying to be set on a copy of a slice from a DataFrame.\n",
      "Try using .loc[row_indexer,col_indexer] = value instead\n",
      "\n",
      "See the caveats in the documentation: https://pandas.pydata.org/pandas-docs/stable/user_guide/indexing.html#returning-a-view-versus-a-copy\n",
      "  to_featurize['tokenized_node_plus_topo'] = tokenized_node_plus_topo\n",
      "../../deep_dream_src\\nn_functions.py:205: SettingWithCopyWarning: \n",
      "A value is trying to be set on a copy of a slice from a DataFrame.\n",
      "Try using .loc[row_indexer,col_indexer] = value instead\n",
      "\n",
      "See the caveats in the documentation: https://pandas.pydata.org/pandas-docs/stable/user_guide/indexing.html#returning-a-view-versus-a-copy\n",
      "  to_featurize['node_plus_topo_lens'] = node_plus_topo_lens\n",
      "../../deep_dream_src\\nn_functions.py:208: SettingWithCopyWarning: \n",
      "A value is trying to be set on a copy of a slice from a DataFrame.\n",
      "Try using .loc[row_indexer,col_indexer] = value instead\n",
      "\n",
      "See the caveats in the documentation: https://pandas.pydata.org/pandas-docs/stable/user_guide/indexing.html#returning-a-view-versus-a-copy\n",
      "  to_featurize['mof_string'] = [a+'[.]'+b+f'[&&][{c}]' for a,b,c in zip(to_featurize[edge_rep],to_featurize[node_rep],to_featurize[topo_rep])]\n",
      "../../deep_dream_src\\nn_functions.py:216: SettingWithCopyWarning: \n",
      "A value is trying to be set on a copy of a slice from a DataFrame.\n",
      "Try using .loc[row_indexer,col_indexer] = value instead\n",
      "\n",
      "See the caveats in the documentation: https://pandas.pydata.org/pandas-docs/stable/user_guide/indexing.html#returning-a-view-versus-a-copy\n",
      "  to_featurize['tokenized_mof_string'] = tokenized_mof_string\n",
      "../../deep_dream_src\\nn_functions.py:217: SettingWithCopyWarning: \n",
      "A value is trying to be set on a copy of a slice from a DataFrame.\n",
      "Try using .loc[row_indexer,col_indexer] = value instead\n",
      "\n",
      "See the caveats in the documentation: https://pandas.pydata.org/pandas-docs/stable/user_guide/indexing.html#returning-a-view-versus-a-copy\n",
      "  to_featurize['mof_string_lens'] = mof_string_lens\n"
     ]
    }
   ],
   "source": [
    "target_names = ['bandgap']\n",
    "\n",
    "mof_selfies_encoding, tokenized_info = featurize_df(\n",
    "    training_data,\n",
    "    target_names,\n",
    "    edge_rep = 'edge_group_selfie',\n",
    "    node_rep = 'node_selfie',\n",
    "    topo_rep = 'topo'\n",
    "    )\n",
    "\n",
    "samples = 10000\n",
    "split_by = {\n",
    "    'method': 'sample',\n",
    "    'train': samples,\n",
    "    'validate': 1000,\n",
    "    'test': 1000\n",
    "    }\n",
    "\n",
    "train_df, validate_df, test_df = split_dataframe(mof_selfies_encoding, split_by, seed=42)"
   ]
  },
  {
   "cell_type": "code",
   "execution_count": 5,
   "metadata": {},
   "outputs": [
    {
     "data": {
      "text/html": [
       "<div>\n",
       "<style scoped>\n",
       "    .dataframe tbody tr th:only-of-type {\n",
       "        vertical-align: middle;\n",
       "    }\n",
       "\n",
       "    .dataframe tbody tr th {\n",
       "        vertical-align: top;\n",
       "    }\n",
       "\n",
       "    .dataframe thead th {\n",
       "        text-align: right;\n",
       "    }\n",
       "</style>\n",
       "<table border=\"1\" class=\"dataframe\">\n",
       "  <thead>\n",
       "    <tr style=\"text-align: right;\">\n",
       "      <th></th>\n",
       "      <th>MOFname</th>\n",
       "      <th>edge_group_selfie</th>\n",
       "      <th>node_selfie</th>\n",
       "      <th>topo</th>\n",
       "      <th>bandgap</th>\n",
       "      <th>tokenized_edge_selfies</th>\n",
       "      <th>edge_lens</th>\n",
       "      <th>node_plus_topo</th>\n",
       "      <th>tokenized_node_plus_topo</th>\n",
       "      <th>node_plus_topo_lens</th>\n",
       "      <th>mof_string</th>\n",
       "      <th>tokenized_mof_string</th>\n",
       "      <th>mof_string_lens</th>\n",
       "    </tr>\n",
       "  </thead>\n",
       "  <tbody>\n",
       "    <tr>\n",
       "      <th>0</th>\n",
       "      <td>sxb_N265_edge4527</td>\n",
       "      <td>[:0methyl_amine][Ring1][C][=C][Branch][C][Bran...</td>\n",
       "      <td>[Fr][C][O][Zn][O][C][Branch1][C][Fr][O][Zn][Br...</td>\n",
       "      <td>sxb</td>\n",
       "      <td>3.926785</td>\n",
       "      <td>[16, 68, 61, 52, 60, 61, 60, 65, 52, 60, 64, 7...</td>\n",
       "      <td>31</td>\n",
       "      <td>[Fr][C][O][Zn][O][C][Branch1][C][Fr][O][Zn][Br...</td>\n",
       "      <td>[34, 22, 48, 65, 48, 22, 20, 22, 34, 48, 65, 2...</td>\n",
       "      <td>56</td>\n",
       "      <td>[:0methyl_amine][Ring1][C][=C][Branch][C][Bran...</td>\n",
       "      <td>[20, 110, 75, 58, 74, 75, 74, 101, 58, 74, 89,...</td>\n",
       "      <td>89</td>\n",
       "    </tr>\n",
       "  </tbody>\n",
       "</table>\n",
       "</div>"
      ],
      "text/plain": [
       "             MOFname                                  edge_group_selfie  \\\n",
       "0  sxb_N265_edge4527  [:0methyl_amine][Ring1][C][=C][Branch][C][Bran...   \n",
       "\n",
       "                                         node_selfie topo   bandgap  \\\n",
       "0  [Fr][C][O][Zn][O][C][Branch1][C][Fr][O][Zn][Br...  sxb  3.926785   \n",
       "\n",
       "                              tokenized_edge_selfies  edge_lens  \\\n",
       "0  [16, 68, 61, 52, 60, 61, 60, 65, 52, 60, 64, 7...         31   \n",
       "\n",
       "                                      node_plus_topo  \\\n",
       "0  [Fr][C][O][Zn][O][C][Branch1][C][Fr][O][Zn][Br...   \n",
       "\n",
       "                            tokenized_node_plus_topo  node_plus_topo_lens  \\\n",
       "0  [34, 22, 48, 65, 48, 22, 20, 22, 34, 48, 65, 2...                   56   \n",
       "\n",
       "                                          mof_string  \\\n",
       "0  [:0methyl_amine][Ring1][C][=C][Branch][C][Bran...   \n",
       "\n",
       "                                tokenized_mof_string  mof_string_lens  \n",
       "0  [20, 110, 75, 58, 74, 75, 74, 101, 58, 74, 89,...               89  "
      ]
     },
     "execution_count": 5,
     "metadata": {},
     "output_type": "execute_result"
    }
   ],
   "source": [
    "train_df.head(1)"
   ]
  },
  {
   "cell_type": "markdown",
   "metadata": {},
   "source": [
    "# Load Language Models"
   ]
  },
  {
   "cell_type": "code",
   "execution_count": 6,
   "metadata": {},
   "outputs": [
    {
     "name": "stderr",
     "output_type": "stream",
     "text": [
      "c:\\Users\\x82753cc\\AppData\\Local\\anaconda3\\envs\\deep_dreaming\\lib\\site-packages\\sklearn\\base.py:347: InconsistentVersionWarning: Trying to unpickle estimator MinMaxScaler from version 1.3.2 when using version 1.3.0. This might lead to breaking code or invalid results. Use at your own risk. For more info please refer to:\n",
      "https://scikit-learn.org/stable/model_persistence.html#security-maintainability-limitations\n",
      "  warnings.warn(\n"
     ]
    }
   ],
   "source": [
    "dream_name = f'LSTM_interval_noise_06_{target_names[0]}_11000samples_group_selfies'\n",
    "predictor_name = f'LSTM_interval_noise_00_{target_names[0]}_11000samples_group_selfies'\n",
    "\n",
    "with open('../..//train_models/mof_saved_models/{}.pkl'.format(dream_name), 'rb') as f:\n",
    "    dream_train_info = pickle.load(f)\n",
    "scaler = dream_train_info['scaler']\n",
    "tokenized_info = dream_train_info['tokenized_info']\n",
    "dream_train_info['hyperparams']['num_layers'] = 1     # For some reason the model saved layers using a tuple\n",
    "dream_hyperparams = dream_train_info['hyperparams']\n",
    "\n",
    "with open('../../train_models/mof_saved_models/{}.pkl'.format(predictor_name), 'rb') as f:\n",
    "    predictor_train_info = pickle.load(f)\n",
    "predictor_train_info['hyperparams']['num_layers'] = 1     # For some reason the model saved layers using a tuple\n",
    "predictor_hyperparams = predictor_train_info['hyperparams']\n",
    "predictor_scaler = predictor_train_info['scaler']"
   ]
  },
  {
   "cell_type": "code",
   "execution_count": 7,
   "metadata": {},
   "outputs": [
    {
     "data": {
      "text/plain": [
       "<All keys matched successfully>"
      ]
     },
     "execution_count": 7,
     "metadata": {},
     "output_type": "execute_result"
    }
   ],
   "source": [
    "dreaming_model = MolecularLSTMModel(**dream_hyperparams)\n",
    "dreaming_model.load_state_dict(dream_train_info['model_state_dict'])\n",
    "predictor_model = MolecularLSTMModel(**predictor_hyperparams)\n",
    "predictor_model.load_state_dict(predictor_train_info['model_state_dict'])"
   ]
  },
  {
   "cell_type": "markdown",
   "metadata": {},
   "source": [
    "## Test model"
   ]
  },
  {
   "cell_type": "code",
   "execution_count": 8,
   "metadata": {},
   "outputs": [
    {
     "name": "stdout",
     "output_type": "stream",
     "text": [
      "(1000, 1)\n"
     ]
    },
    {
     "data": {
      "image/png": "[encoded data removed]",
      "text/plain": [
       "<Figure size 400x400 with 1 Axes>"
      ]
     },
     "metadata": {},
     "output_type": "display_data"
    }
   ],
   "source": [
    "validate_loader, _ = prepare_hybrid_dataset(test_df,tokenized_info,target_names,pad_node=False,batch_size=1,shuffle=True,train=False,scaler=predictor_scaler,noise_level=predictor_train_info['noise_level'])\n",
    "create_parity_plot(predictor_model, predictor_scaler, validate_loader)"
   ]
  },
  {
   "cell_type": "markdown",
   "metadata": {},
   "source": [
    "# Dreaming "
   ]
  },
  {
   "cell_type": "markdown",
   "metadata": {},
   "source": [
    "#### Shited property distributions"
   ]
  },
  {
   "cell_type": "code",
   "execution_count": null,
   "metadata": {},
   "outputs": [],
   "source": [
    "# ******************* EXAMPLE CELL TO OPTIMISE DISTRIBUTION *******************\n",
    "\n",
    "# Seed distribution\n",
    "seed = pd.read_csv(('../seeds/bandgap_1000_seed_df.csv'))\n",
    "target_values = [0]     # min(bandgap)\n",
    "\n",
    "# Dream settings\n",
    "dream_settings = {\n",
    "    'num_epochs': 1000,\n",
    "    'lr': 0.001,\n",
    "    'penalty_per_connection': 0.1,\n",
    "    'SA_penalty_scaler': 0.1,\n",
    "    'patience': 100,\n",
    "    'noise_level': dream_train_info['noise_level'],\n",
    "    'target_tolerance': 0.1\n",
    "    }\n",
    "\n",
    "# Perform dreaming for a distribution of cp MOFs\n",
    "dream_results = []\n",
    "exceptions = []\n",
    "start, stop = 0, 10\n",
    "count = 0\n",
    "for i in range(start,stop): \n",
    "    print(i)\n",
    "    try:\n",
    "        global_opt_pathways = []\n",
    "        for j in range(10): \n",
    "            seed_mof_string = seed.iloc[i]['mof_string']\n",
    "            opt_mof_string = seed_mof_string\n",
    "            local_valid_opt_pathway = run_dream_exp(\n",
    "                dreaming_model, \n",
    "                predictor_model, \n",
    "                opt_mof_string, \n",
    "                target_values, \n",
    "                tokenized_info, \n",
    "                group_grammar, \n",
    "                dream_settings,\n",
    "                iterations=5\n",
    "                )\n",
    "            global_opt_pathways.append(local_valid_opt_pathway)\n",
    "        \n",
    "        # extract the pathway with the best target value (ensemble of local optimisations)\n",
    "        if target_values[0] <= 0:\n",
    "            valid_opt_pathway = global_opt_pathways[np.argmin([pathway.iloc[-1]['predictor_targets'][0] for pathway in global_opt_pathways])]\n",
    "        elif target_values[0] >= 1:\n",
    "            valid_opt_pathway = global_opt_pathways[np.argmax([pathway.iloc[-1]['predictor_targets'][0] for pathway in global_opt_pathways])]\n",
    "        else:\n",
    "            raise ValueError('Target value must be <= 0 or >= 1')\n",
    "\n",
    "        # store results in new dataframe\n",
    "        dream_results.append({\n",
    "            'seed_mof_name': seed.iloc[i]['MOFname'],\n",
    "            'seed_mof_string': seed_mof_string,\n",
    "            'seed_edge_selfies': seed.iloc[i]['edge_group_selfie'],\n",
    "            'seed_target': seed.iloc[i][target_names[0]],\n",
    "            'dreamed_mof_string': valid_opt_pathway.iloc[-1]['dreamed_mof_string'],\n",
    "            'dreamed_edge_selfies': valid_opt_pathway.iloc[-1]['dreamed_selfies'],\n",
    "            'dreamed_edge_smiles': valid_opt_pathway.iloc[-1]['dreamed_smiles'],\n",
    "            'dreamed_target': scaler.inverse_transform(np.array(valid_opt_pathway.iloc[-1]['predictor_targets'][0]).reshape(1, -1)).item(),\n",
    "        })\n",
    "        count += 1\n",
    "        if count % 5 == 0:\n",
    "            dream_results_df = pd.DataFrame(dream_results)\n",
    "            dream_results_df.to_csv(f'./dream_results/{start}_{stop}_{target_names[0]}_dream_results_TEST.csv')    \t\n",
    "    except Exception as e:\n",
    "        exceptions.append(e)\n",
    "        continue\n",
    "dream_results_df = pd.DataFrame(dream_results)\n",
    "dream_results_df.to_csv(f'./dream_results/{start}_{stop}_{target_names[0]}_dream_results_TEST.csv')"
   ]
  },
  {
   "cell_type": "markdown",
   "metadata": {},
   "source": [
    "#### Lets visualise the dream results"
   ]
  },
  {
   "cell_type": "code",
   "execution_count": 182,
   "metadata": {},
   "outputs": [
    {
     "data": {
      "text/html": [
       "<div>\n",
       "<style scoped>\n",
       "    .dataframe tbody tr th:only-of-type {\n",
       "        vertical-align: middle;\n",
       "    }\n",
       "\n",
       "    .dataframe tbody tr th {\n",
       "        vertical-align: top;\n",
       "    }\n",
       "\n",
       "    .dataframe thead th {\n",
       "        text-align: right;\n",
       "    }\n",
       "</style>\n",
       "<table border=\"1\" class=\"dataframe\">\n",
       "  <thead>\n",
       "    <tr style=\"text-align: right;\">\n",
       "      <th></th>\n",
       "      <th>seed_mof_name</th>\n",
       "      <th>seed_mof_string</th>\n",
       "      <th>seed_edge_selfies</th>\n",
       "      <th>seed_target</th>\n",
       "      <th>dreamed_mof_string</th>\n",
       "      <th>dreamed_edge_selfies</th>\n",
       "      <th>dreamed_edge_smiles</th>\n",
       "      <th>dreamed_target</th>\n",
       "      <th>dreamed_mof_name</th>\n",
       "      <th>linker_hash</th>\n",
       "    </tr>\n",
       "  </thead>\n",
       "  <tbody>\n",
       "    <tr>\n",
       "      <th>0</th>\n",
       "      <td>nbo-a_N583_edge78106</td>\n",
       "      <td>[FrH0][C][Branch][P][Branch][C][pop][C][pop][C...</td>\n",
       "      <td>[FrH0][C][Branch][P][Branch][C][pop][C][pop][C...</td>\n",
       "      <td>4.386873</td>\n",
       "      <td>[:0imidazole][C][:0phosphoric_acid][Ring1][FrH...</td>\n",
       "      <td>[:0imidazole][C][:0phosphoric_acid][Ring1][FrH...</td>\n",
       "      <td>O=S(O)c1cc(OP=Pc2ccnc(-c3ccccn3)n2)cc([SH2]c2n...</td>\n",
       "      <td>2.22665</td>\n",
       "      <td>nbo-a_N583_a1e7065b</td>\n",
       "      <td>a1e7065b</td>\n",
       "    </tr>\n",
       "  </tbody>\n",
       "</table>\n",
       "</div>"
      ],
      "text/plain": [
       "          seed_mof_name                                    seed_mof_string  \\\n",
       "0  nbo-a_N583_edge78106  [FrH0][C][Branch][P][Branch][C][pop][C][pop][C...   \n",
       "\n",
       "                                   seed_edge_selfies  seed_target  \\\n",
       "0  [FrH0][C][Branch][P][Branch][C][pop][C][pop][C...     4.386873   \n",
       "\n",
       "                                  dreamed_mof_string  \\\n",
       "0  [:0imidazole][C][:0phosphoric_acid][Ring1][FrH...   \n",
       "\n",
       "                                dreamed_edge_selfies  \\\n",
       "0  [:0imidazole][C][:0phosphoric_acid][Ring1][FrH...   \n",
       "\n",
       "                                 dreamed_edge_smiles  dreamed_target  \\\n",
       "0  O=S(O)c1cc(OP=Pc2ccnc(-c3ccccn3)n2)cc([SH2]c2n...         2.22665   \n",
       "\n",
       "      dreamed_mof_name linker_hash  \n",
       "0  nbo-a_N583_a1e7065b    a1e7065b  "
      ]
     },
     "execution_count": 182,
     "metadata": {},
     "output_type": "execute_result"
    }
   ],
   "source": [
    "# Note: these are the results obtained after reconstructing MOFs from their strings and predicting the bandgap from ML models\n",
    "dream_results_df = pd.read_csv('./dream_results/bandgap_min_1000_dream_results.csv')\n",
    "dream_results_df.head(1)    "
   ]
  },
  {
   "cell_type": "code",
   "execution_count": 185,
   "metadata": {},
   "outputs": [
    {
     "data": {
      "image/png": "[encoded data removed]",
      "text/plain": [
       "<Figure size 300x200 with 1 Axes>"
      ]
     },
     "metadata": {},
     "output_type": "display_data"
    }
   ],
   "source": [
    "plt.figure(figsize=(3,2))\n",
    "plt.hist(dream_results_df['seed_target'], bins=10, alpha=0.5, color='grey', label='seed', density=True)\n",
    "plt.hist(dream_results_df['dreamed_target'], bins=10, alpha=0.5, color='blue', label='min', density=True)\n",
    "plt.xlabel('Bandgap (eV)')\n",
    "plt.box(False)\n",
    "plt.tick_params(left=False, labelleft=False)\n",
    "\n",
    "# Add a horizontal line at y=0\n",
    "plt.axhline(y=0, color='black', linestyle='-')\n",
    "\n",
    "# plt.show()\n",
    "plt.savefig('./bandgap_dream_distribution.png',dpi=300,bbox_inches='tight')"
   ]
  },
  {
   "cell_type": "markdown",
   "metadata": {},
   "source": [
    "#### Comparing results before and after structural relaxation"
   ]
  },
  {
   "cell_type": "markdown",
   "metadata": {},
   "source": [
    "To evaluate the impact that structural relaxation has on the predicted property values, we sampled a representative subset of 100 seed MOFs (and their optimised counterparts) and relaxed their crystal structures using the UFF forcefield as implemented in the Forcite Module of Materials Studio 2019. The results are shown below"
   ]
  },
  {
   "cell_type": "code",
   "execution_count": 168,
   "metadata": {},
   "outputs": [],
   "source": [
    "# Note: these are the results obtained after reconstructing MOFs from their strings and using our in-house developed ML model to determine the high-fidelity properties\n",
    "bandgap_min_relaxed = pd.read_csv('./dream_results/bandgap_min_100_dream_results_relaxed.csv')\n",
    "bandgap_min_unrelaxed = pd.read_csv('./dream_results/bandgap_min_100_dream_results_unrelaxed.csv')"
   ]
  },
  {
   "cell_type": "code",
   "execution_count": 165,
   "metadata": {},
   "outputs": [
    {
     "data": {
      "image/png": "[encoded data removed]",
      "text/plain": [
       "<Figure size 800x200 with 3 Axes>"
      ]
     },
     "metadata": {},
     "output_type": "display_data"
    }
   ],
   "source": [
    "fig, ax = plt.subplots(1,3, figsize=(8, 2))\n",
    "\n",
    "ax[0].hist(dream_results_df['seed_target'], bins=10, color='grey', alpha=0.5, density=True, label='Original seed')\n",
    "ax[0].hist(dream_results_df['dreamed_target'], bins=10, color='blue', alpha=0.5, density=True, label='Original dreamed')\n",
    "# ax[0].set_title('Original Histograms')\n",
    "ax[0].set_xlabel('Bandgap (eV)')\n",
    "ax[0].set_xlim(-0.5,6.5)\n",
    "# ax[0].legend(frameon=False)\n",
    "\n",
    "ax[1].hist(bandgap_min_unrelaxed['seed_target'], bins=10, color='grey', alpha=0.5, density=True, label='Sampled seed')\n",
    "ax[1].hist(bandgap_min_unrelaxed['dreamed_target'], bins=10, color='blue', alpha=0.5, density=True, label='Sampled dreamed')\n",
    "# ax[1].set_title('Sampled Histograms')\n",
    "ax[1].set_xlabel('Bandgap (eV)')\n",
    "ax[1].set_xlim(-0.5,6.5)\n",
    "# ax[1].legend(frameon=False)\n",
    "\n",
    "ax[2].hist(bandgap_min_relaxed['seed_target'], bins=10, color='grey', alpha=0.5, density=True, label='Original seed')\n",
    "ax[2].hist(bandgap_min_relaxed['dreamed_target'], bins=10, color='blue', alpha=0.5, density=True, label='Original dreamed')\n",
    "# ax[2].set_title('Relaxed Histograms')\n",
    "ax[2].set_xlabel('Bandgap (eV)')\n",
    "ax[2].set_xlim(-0.5,6.5)\n",
    "\n",
    "# ax[2].legend(frameon=False)\n",
    "\n",
    "for a in ax:\n",
    "    a.yaxis.set_ticks([])\n",
    "    a.yaxis.set_ticklabels([])\n",
    "    a.set_ylabel('')\n",
    "    a.spines['right'].set_visible(False)\n",
    "    a.spines['top'].set_visible(False)\n",
    "    a.spines['left'].set_visible(False)\n",
    "\n",
    "plt.tight_layout()\n",
    "# plt.show()\n",
    "plt.savefig('bandgap_relaxed_distributions.png',dpi=300,bbox_inches='tight')"
   ]
  },
  {
   "cell_type": "markdown",
   "metadata": {},
   "source": [
    "Calculate the error for relaxed and unrelaxed KPIs"
   ]
  },
  {
   "cell_type": "code",
   "execution_count": 132,
   "metadata": {},
   "outputs": [],
   "source": [
    "bandgap_min_relaxed['dreamed_mof_name'] = bandgap_min_relaxed['dreamed_mof_name'].str.replace('_opt', '')\n",
    "bandgap_min_relaxed['seed_mof_name'] = bandgap_min_relaxed['seed_mof_name'].str.replace('_opt', '')"
   ]
  },
  {
   "cell_type": "code",
   "execution_count": 134,
   "metadata": {},
   "outputs": [
    {
     "name": "stdout",
     "output_type": "stream",
     "text": [
      "0.5870776762105263 0.7182007526879863\n",
      "17.803225009709035 23.97050655348247\n"
     ]
    }
   ],
   "source": [
    "from sklearn.metrics import mean_absolute_error\n",
    "\n",
    "merged_seed_df = pd.merge(bandgap_min_relaxed[['seed_mof_name','seed_target']], dream_results_df[['seed_mof_name','seed_target']], on='seed_mof_name',suffixes=('_relaxed', '_unrelaxed'))\n",
    "merged_min_df = pd.merge(bandgap_min_relaxed[['dreamed_mof_name','dreamed_target']], dream_results_df[['dreamed_mof_name','dreamed_target']], on='dreamed_mof_name', suffixes=('_relaxed', '_unrelaxed'))\n",
    "\n",
    "# calculcate MAE\n",
    "print(\n",
    "    mean_absolute_error(merged_seed_df['seed_target_relaxed'], merged_seed_df['seed_target_unrelaxed']),\n",
    "    mean_absolute_error(merged_min_df['dreamed_target_relaxed'], merged_min_df['dreamed_target_unrelaxed']),\n",
    ")\n",
    "\n",
    "# Calculate Percentage Error\n",
    "print(\n",
    "    (((merged_seed_df['seed_target_relaxed'] - merged_seed_df['seed_target_unrelaxed']).abs() / merged_seed_df['seed_target_relaxed']) * 100).mean(),\n",
    "    (((merged_min_df['dreamed_target_relaxed'] - merged_min_df['dreamed_target_unrelaxed']).abs() / merged_min_df['dreamed_target_relaxed']) * 100).mean(),\n",
    ")"
   ]
  }
 ],
 "metadata": {
  "kernelspec": {
   "display_name": "deep_dreaming",
   "language": "python",
   "name": "python3"
  },
  "language_info": {
   "codemirror_mode": {
    "name": "ipython",
    "version": 3
   },
   "file_extension": ".py",
   "mimetype": "text/x-python",
   "name": "python",
   "nbconvert_exporter": "python",
   "pygments_lexer": "ipython3",
   "version": "3.9.0"
  },
  "orig_nbformat": 4
 },
 "nbformat": 4,
 "nbformat_minor": 2
}
